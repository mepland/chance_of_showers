{
 "cells": [
  {
   "cell_type": "markdown",
   "id": "e4255405-2279-4241-9672-f694ba4dc61e",
   "metadata": {
    "tags": []
   },
   "source": [
    "# Python Setup"
   ]
  },
  {
   "cell_type": "code",
   "execution_count": null,
   "id": "e1a09782-858d-4520-8175-3df4fc8d518c",
   "metadata": {},
   "outputs": [],
   "source": [
    "%load_ext autoreload\n",
    "%autoreload 2"
   ]
  },
  {
   "cell_type": "code",
   "execution_count": null,
   "id": "65b36690-dbb3-4584-b8f4-3feff5e57610",
   "metadata": {
    "tags": []
   },
   "outputs": [],
   "source": [
    "%matplotlib inline\n",
    "\n",
    "# import numpy as np\n",
    "import pandas as pd\n",
    "# from natsort import natsorted\n",
    "# from pprint import pprint\n",
    "# import sys\n",
    "import os\n",
    "import glob\n",
    "import datetime\n",
    "from zoneinfo import ZoneInfo\n",
    "\n",
    "# import statsmodels.api as sm\n",
    "# from statsmodels.tsa.arima.model import ARIMA\n",
    "# from statsmodels.tsa.ar_model import ar_select_order\n",
    "# from statsmodels.graphics.api import qqplot"
   ]
  },
  {
   "cell_type": "code",
   "execution_count": null,
   "id": "ac3f13e3-ed39-4b2b-862e-b80a6e1988be",
   "metadata": {
    "tags": []
   },
   "outputs": [],
   "source": [
    "# plotting code from plotting.py\n",
    "# from plotting import plot_func\n",
    "# marker_styles = ['o', '^', 'v', '+']"
   ]
  },
  {
   "cell_type": "code",
   "execution_count": null,
   "id": "7ddaa31b-e1ce-414c-8009-fe3e69ea5a2d",
   "metadata": {
    "tags": []
   },
   "outputs": [],
   "source": [
    "# # https://stackoverflow.com/a/59866006\n",
    "# from IPython.display import display, HTML\n",
    "\n",
    "# def force_show_all(dfp):\n",
    "#     with pd.option_context('display.max_rows', None, 'display.max_columns', None, 'display.width', None):\n",
    "#         display(HTML(dfp.to_html()))"
   ]
  },
  {
   "cell_type": "code",
   "execution_count": null,
   "id": "cfd15177-6587-4cc9-be20-3e0ccd3e931e",
   "metadata": {
    "scrolled": true,
    "tags": []
   },
   "outputs": [],
   "source": [
    "# force_show_all(dfp_data)"
   ]
  },
  {
   "cell_type": "markdown",
   "id": "7b36cae4-8bef-4a43-935f-dbc9c6dc5dad",
   "metadata": {
    "tags": []
   },
   "source": [
    "***\n",
    "# Load and Explore the Data"
   ]
  },
  {
   "cell_type": "code",
   "execution_count": null,
   "id": "91ce1be4-089c-4cb8-9791-8bf407cbdda7",
   "metadata": {
    "tags": []
   },
   "outputs": [],
   "source": [
    "data_path = '../saved_data'"
   ]
  },
  {
   "cell_type": "code",
   "execution_count": null,
   "id": "234f0ef5-2f3c-4a0c-8536-50baaf3cd81c",
   "metadata": {
    "tags": []
   },
   "outputs": [],
   "source": [
    "date_fmt = \"%Y-%m-%d\"\n",
    "time_fmt = \"%H:%M:%S\"\n",
    "# time_hm_fmt = \"%H:%M\"\n",
    "datetime_fmt = f\"{date_fmt} {time_fmt}\""
   ]
  },
  {
   "cell_type": "code",
   "execution_count": null,
   "id": "2e8ced3e-4002-41d2-81f5-39bacbac4cce",
   "metadata": {
    "tags": []
   },
   "outputs": [],
   "source": [
    "# when t_start = t_start.replace(minute=t_start_minute, second=0, microsecond=0) fixed the issue of drifting seconds\n",
    "dt_end_of_drifting_seconds = datetime.datetime.strptime('2023-05-02 01:22:08', datetime_fmt).replace(tzinfo=ZoneInfo('UTC'))"
   ]
  },
  {
   "cell_type": "code",
   "execution_count": null,
   "id": "c54550c2-4904-4c3b-8d24-1ac16c0ea028",
   "metadata": {
    "tags": []
   },
   "outputs": [],
   "source": [
    "def load_data(data_path, with_fname=False):\n",
    "    dfp_list = []\n",
    "    for f in glob.glob(os.path.join(data_path, \"*.csv\")):\n",
    "        try:\n",
    "            dfp = pd.read_csv(f)\n",
    "            # dfp['fname'] = f.split(\"/\")[-1]\n",
    "            dfp_list.append(dfp)\n",
    "        except:\n",
    "            raise ValueError(f'Error loading file {f}')\n",
    "\n",
    "    dfp = pd.concat(dfp_list)\n",
    "    dfp['datetime_utc'] = pd.to_datetime(dfp['datetime_utc'], utc=True, format=datetime_fmt)\n",
    "    dfp['datetime_est'] = dfp['datetime_utc'].dt.tz_convert('US/Eastern')\n",
    "    dfp['day_of_week_int'] = dfp['datetime_est'].dt.dayofweek\n",
    "    dfp['day_of_week_str'] = dfp['datetime_est'].dt.day_name()\n",
    "    # dfp['time'] = dfp['datetime_est'].dt.strftime(time_hm_fmt)\n",
    "    \n",
    "    dfp = dfp.sort_values(['datetime_utc'], ascending=[True]).reset_index(drop=True)\n",
    "\n",
    "    dfp_drift_seconds_records = dfp.loc[( (dt_end_of_drifting_seconds < dfp['datetime_utc']) & (dfp['datetime_utc'].dt.second != 0) )]\n",
    "    if 0 < dfp_drift_seconds_records.size:\n",
    "        display(dfp_drift_seconds_records)\n",
    "        raise ValueError(f'Found {dfp_drift_seconds_records.size} after {dt_end_of_drifting_seconds.strftime(datetime_fmt)} UTC!')\n",
    "\n",
    "    return dfp"
   ]
  },
  {
   "cell_type": "code",
   "execution_count": null,
   "id": "6afcb822-a530-4e55-9c8b-4d98e9d2820f",
   "metadata": {
    "tags": []
   },
   "outputs": [],
   "source": [
    "dfp_data = load_data(data_path)"
   ]
  },
  {
   "cell_type": "code",
   "execution_count": null,
   "id": "4d42c767-596f-41e9-bc08-df40d9f1c73d",
   "metadata": {
    "tags": []
   },
   "outputs": [],
   "source": [
    "dfp_data"
   ]
  },
  {
   "cell_type": "code",
   "execution_count": null,
   "id": "a6e9c165-b887-430f-be80-8502c75493b8",
   "metadata": {
    "tags": []
   },
   "outputs": [],
   "source": [
    "dfp_data.dtypes"
   ]
  },
  {
   "cell_type": "code",
   "execution_count": null,
   "id": "2f343233-4367-4afd-8368-e65ceac72f58",
   "metadata": {
    "tags": []
   },
   "outputs": [],
   "source": [
    "dfp_data['mean_pressure_value'].describe()"
   ]
  }
 ],
 "metadata": {
  "jupytext": {
   "cell_metadata_filter": "-all",
   "formats": "ipynb,py:percent",
   "notebook_metadata_filter": "-all"
  },
  "kernelspec": {
   "display_name": "Python 3 (ipykernel)",
   "language": "python",
   "name": "python3"
  },
  "language_info": {
   "codemirror_mode": {
    "name": "ipython",
    "version": 3
   },
   "file_extension": ".py",
   "mimetype": "text/x-python",
   "name": "python",
   "nbconvert_exporter": "python",
   "pygments_lexer": "ipython3",
   "version": "3.11.3"
  }
 },
 "nbformat": 4,
 "nbformat_minor": 5
}
